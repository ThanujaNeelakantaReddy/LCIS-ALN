{
 "cells": [
  {
   "cell_type": "code",
   "execution_count": null,
   "id": "875d23bd-eb80-43bd-8d81-657f59009ba4",
   "metadata": {},
   "outputs": [],
   "source": [
    "#Given an unsorted array of integers, find the length of the longest continuous increasing subsequence (subarray). "
   ]
  },
  {
   "cell_type": "code",
   "execution_count": 57,
   "id": "e03a8184-03b1-4de8-8587-8619bce8e70f",
   "metadata": {},
   "outputs": [],
   "source": [
    "class Solution:\n",
    "    def findLengthOfLCIS(self, nums: List[int], target: int) -> List[int]:\n",
    "        ans = cnt = 1\n",
    "        for i, x in enumerate(nums[1:]):\n",
    "            if nums[i] < x:\n",
    "                cnt += 1\n",
    "                ans = max(ans, cnt)\n",
    "            else:\n",
    "                cnt = 1\n",
    "        return ans"
   ]
  },
  {
   "cell_type": "code",
   "execution_count": 59,
   "id": "d8d50961-6858-4a82-bc30-b0888c1ad3a8",
   "metadata": {},
   "outputs": [
    {
     "name": "stdout",
     "output_type": "stream",
     "text": [
      "3\n"
     ]
    }
   ],
   "source": [
    "num = [1,3,5,4,7]\n",
    "target = len(num)\n",
    "s= Solution()\n",
    "print(s.findLengthOfLCIS(num,target))"
   ]
  },
  {
   "cell_type": "code",
   "execution_count": 60,
   "id": "f7b86bea-4c50-4269-8230-a1194f7099ec",
   "metadata": {},
   "outputs": [
    {
     "name": "stdout",
     "output_type": "stream",
     "text": [
      "1\n"
     ]
    }
   ],
   "source": [
    "num = [2,2,2,2,2]\n",
    "target = len(num)\n",
    "s= Solution()\n",
    "print(s.findLengthOfLCIS(num,target))"
   ]
  },
  {
   "cell_type": "markdown",
   "id": "b0ce6572-179b-458c-8b3f-edcfb902efb2",
   "metadata": {},
   "source": [
    "#Given a list of non negative integers, arrange them such that they form the largest number."
   ]
  },
  {
   "cell_type": "code",
   "execution_count": 68,
   "id": "ea12b9d7-1d72-4f66-9122-5b4a3360f6d6",
   "metadata": {},
   "outputs": [],
   "source": [
    "class Solution:\n",
    "    def largestNumber(self, nums: List[int]) -> str:\n",
    "        nums = [str(num) for num in nums]                 # Convert the list of numbers to list of strings\n",
    "        \n",
    "        nums.sort(key=LargerNumKey)                      # Sort the list of strings using our custom sorting function\n",
    "        \n",
    "        largest_num = ''.join(nums)                      # Join the sorted list of strings to form the final result\n",
    "        \n",
    "        # If the largest number is 0, return \"0\" Otherwise, return the largest number\n",
    "        return \"0\" if largest_num[0] == \"0\" else largest_num"
   ]
  },
  {
   "cell_type": "code",
   "execution_count": 71,
   "id": "f059f1af-ca8e-4d8a-b3c1-efdf0cbddfe3",
   "metadata": {
    "scrolled": true
   },
   "outputs": [
    {
     "name": "stdout",
     "output_type": "stream",
     "text": [
      "210\n",
      "9534330\n",
      "841252\n"
     ]
    }
   ],
   "source": [
    "ob1 = Solution()\n",
    "print(ob1.largestNumber([10,2]))\n",
    "print(ob1.largestNumber([3,30,34,5,9]))\n",
    "print(ob1.largestNumber([8,25,41,2]))"
   ]
  },
  {
   "cell_type": "code",
   "execution_count": null,
   "id": "594aa2f0-b2a5-4111-bc5d-19f6ccedd777",
   "metadata": {},
   "outputs": [],
   "source": []
  }
 ],
 "metadata": {
  "kernelspec": {
   "display_name": "Python 3 (ipykernel)",
   "language": "python",
   "name": "python3"
  },
  "language_info": {
   "codemirror_mode": {
    "name": "ipython",
    "version": 3
   },
   "file_extension": ".py",
   "mimetype": "text/x-python",
   "name": "python",
   "nbconvert_exporter": "python",
   "pygments_lexer": "ipython3",
   "version": "3.11.7"
  }
 },
 "nbformat": 4,
 "nbformat_minor": 5
}
